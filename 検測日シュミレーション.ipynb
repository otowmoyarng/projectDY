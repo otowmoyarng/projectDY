{
  "nbformat": 4,
  "nbformat_minor": 0,
  "metadata": {
    "colab": {
      "provenance": [],
      "collapsed_sections": []
    },
    "kernelspec": {
      "name": "python3",
      "display_name": "Python 3"
    },
    "language_info": {
      "name": "python"
    }
  },
  "cells": [
    {
      "cell_type": "code",
      "source": [
        "from datetime import datetime,timedelta\n",
        "from dateutil.relativedelta import relativedelta"
      ],
      "metadata": {
        "id": "JTBEbG812_yb"
      },
      "execution_count": null,
      "outputs": []
    },
    {
      "cell_type": "markdown",
      "source": [
        "基準日と前回の検測日を入力する\n",
        "\n",
        "*   targetDate：基準日。空白の場合は処理日となる\n",
        "*   strPreviousDateofDown：前回のぞみ下り検測日\n",
        "*   strPreviousDateofUp　：前回のぞみ上り検測日\n",
        "\n"
      ],
      "metadata": {
        "id": "Tf_JoZ-c3Ldl"
      }
    },
    {
      "cell_type": "code",
      "source": [
        "targetDate: str = \"2022/10/29\" #@param {type:\"string\"}"
      ],
      "metadata": {
        "id": "V51vtyruwdtP"
      },
      "execution_count": null,
      "outputs": []
    },
    {
      "cell_type": "code",
      "execution_count": null,
      "metadata": {
        "id": "RCSvqAMK2MHb",
        "cellView": "form"
      },
      "outputs": [],
      "source": [
        "strPreviousDateofDown: str = \"2022/09/28\" #@param {type:\"string\"}"
      ]
    },
    {
      "cell_type": "code",
      "source": [
        "strPreviousDateofUp: str = \"2022/09/29\" #@param {type:\"string\"}"
      ],
      "metadata": {
        "id": "atfLZqEs20Vu"
      },
      "execution_count": null,
      "outputs": []
    },
    {
      "cell_type": "markdown",
      "source": [
        "ここから処理"
      ],
      "metadata": {
        "id": "XlHsF7U9wn8O"
      }
    },
    {
      "cell_type": "code",
      "source": [
        "def convertDatetime(datestring: str) -> datetime:\n",
        "    convertedDate: datetime = datetime.strptime(datestring, '%Y/%m/%d')\n",
        "    return convertedDate"
      ],
      "metadata": {
        "id": "P0qV3j4P4pBy"
      },
      "execution_count": null,
      "outputs": []
    },
    {
      "cell_type": "code",
      "source": [
        "def simulation() -> None:\n",
        "    previousDateofDown, previousDateofUp, endDate = None, None, None\n",
        "    weekdayEranames = ['月', '火', '水', '木', '金', '土', '日']\n",
        "    try:\n",
        "        previousDateofDown = convertDatetime(strPreviousDateofDown) # 前回下り運行日\n",
        "        previousDateofUp = convertDatetime(strPreviousDateofUp)     # 前回上り運行日\n",
        "        endDate = datetime.today() if targetDate == \"\" else convertDatetime(targetDate)\n",
        "        endDate = endDate + relativedelta(months=1)\n",
        "        endDate = datetime(year=endDate.year, month=endDate.month, day=1, hour=0, minute=0, second=0, microsecond=0)\n",
        "    except ValueError as ex:\n",
        "        # 日付書式の変換エラーがあればメッセージを出して終了する\n",
        "        print(type(ex))\n",
        "        print(ex)\n",
        "        return\n",
        "\n",
        "    print(f\"次月運行予定：{endDate.strftime('%Y/%m')}\")\n",
        "    while True:\n",
        "        previousDateofDown = previousDateofDown + timedelta(days=10)\n",
        "        previousDateofUp = previousDateofUp + timedelta(days=10)\n",
        "        if previousDateofDown >= endDate and previousDateofUp >= endDate:\n",
        "            break\n",
        "        print(f\"のぞみ検測下り：{previousDateofDown.strftime('%Y/%m/%d')}({weekdayEranames[previousDateofDown.weekday()]})\")\n",
        "        print(f\"のぞみ検測上り：{previousDateofUp.strftime('%Y/%m/%d')}({weekdayEranames[previousDateofUp.weekday()]})\")\n",
        "        "
      ],
      "metadata": {
        "id": "Bg8EJaWw4Plj"
      },
      "execution_count": null,
      "outputs": []
    },
    {
      "cell_type": "code",
      "source": [
        "# 入力チェック 前回の検測日が両方とも未入力なら処理を終了する\n",
        "if previousDateofDown == \"\" and previousDateofUp == \"\":\n",
        "    print(\"前回の検測日が入力されていません。\")\n",
        "else:\n",
        "    simulation()    "
      ],
      "metadata": {
        "id": "nLJIq8L63aAy",
        "colab": {
          "base_uri": "https://localhost:8080/"
        },
        "outputId": "54eac792-1380-4e2e-a475-350aabc1fa3f"
      },
      "execution_count": null,
      "outputs": [
        {
          "output_type": "stream",
          "name": "stdout",
          "text": [
            "次月運行予定：2022/11\n",
            "のぞみ検測下り：2022/10/08(土)\n",
            "のぞみ検測上り：2022/10/09(日)\n",
            "のぞみ検測下り：2022/10/18(火)\n",
            "のぞみ検測上り：2022/10/19(水)\n",
            "のぞみ検測下り：2022/10/28(金)\n",
            "のぞみ検測上り：2022/10/29(土)\n"
          ]
        }
      ]
    }
  ]
}