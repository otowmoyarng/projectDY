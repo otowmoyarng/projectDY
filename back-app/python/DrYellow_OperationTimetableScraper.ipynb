{
  "nbformat": 4,
  "nbformat_minor": 0,
  "metadata": {
    "colab": {
      "name": "DrYellow_OperationTimetableScraper.ipynb",
      "provenance": [],
      "collapsed_sections": []
    },
    "kernelspec": {
      "name": "python3",
      "display_name": "Python 3"
    },
    "language_info": {
      "name": "python"
    }
  },
  "cells": [
    {
      "cell_type": "code",
      "metadata": {
        "id": "E7Q_bb5N6K4C"
      },
      "source": [
        "!pip freeze | grep \"beautifulsoup\"\n",
        "!pip freeze | grep \"requests\"\n",
        "#pip install beautifulsoup\n",
        "#pip install requests"
      ],
      "execution_count": null,
      "outputs": []
    },
    {
      "cell_type": "code",
      "metadata": {
        "id": "jrEvKMFXafjo"
      },
      "source": [
        "#@title スクレイピングするURLを指定する。<br>例)https://hatsutora.com/doctor-yellow-unkou-2021-11/\n",
        "BASEURL = \"https://hatsutora.com/doctor-yellow-unkou\" #@param {type:\"string\"}\n"
      ],
      "execution_count": 2,
      "outputs": []
    },
    {
      "cell_type": "code",
      "metadata": {
        "id": "DgWboF_NIP4N"
      },
      "source": [
        "#@title DebugFlgを指定する。True/False\n",
        "DebugFlg = \"False\" #@param {type:\"string\"}"
      ],
      "execution_count": 3,
      "outputs": []
    },
    {
      "cell_type": "code",
      "metadata": {
        "id": "vAKGmF3HCk0I"
      },
      "source": [
        "#@title IsDebug デバックモードかどうか\n",
        "def IsDebug() -> bool:\n",
        "    #print(f\"DebugFlg is {DebugFlg}\")\n",
        "    return DebugFlg.lower() == \"true\""
      ],
      "execution_count": 4,
      "outputs": []
    },
    {
      "cell_type": "code",
      "metadata": {
        "id": "hrPs5JRTJsmC"
      },
      "source": [
        "#@title PrintDebug デバックモードでprintする\n",
        "def PrintDebug(output) -> None:\n",
        "    if IsDebug():\n",
        "        print(output)"
      ],
      "execution_count": 5,
      "outputs": []
    },
    {
      "cell_type": "code",
      "metadata": {
        "id": "QuJNOZhIIpH9"
      },
      "source": [
        "from datetime import datetime\n",
        "\n",
        "today = datetime.now()\n",
        "# print(today.year)\n",
        "# print(today.month)\n",
        "url = f\"{BASEURL}-{today.year}-{today.month}/\""
      ],
      "execution_count": 6,
      "outputs": []
    },
    {
      "cell_type": "code",
      "metadata": {
        "id": "R0netIoz8t7u"
      },
      "source": [
        "from bs4 import BeautifulSoup\n",
        "import requests\n",
        "\n",
        "request = requests.get(url)\n",
        "soup = BeautifulSoup(request.content, \"html.parser\")\n",
        "#<h3><span id=\"_202111\">ドクターイエロー 2021年11月の予想運行日</span></h3>の直下に運行予定日のtableがあり、最初のtableが運行予定表となる模様\n",
        "tables = soup.find_all(\"table\")\n",
        "table = tables[0]\n",
        "PrintDebug(table)\n",
        "rows = table.findAll('tr')"
      ],
      "execution_count": 7,
      "outputs": []
    },
    {
      "cell_type": "code",
      "metadata": {
        "id": "dH1rwsKlB8TD"
      },
      "source": [
        "isHeaderSkipped = False\n",
        "row_index = 0\n",
        "datakey = (\"Date\", \"Operations\")\n",
        "timetable = [datakey]\n",
        "for row in rows:\n",
        "\n",
        "    # 先頭行はヘッダー行なので読み飛ばす\n",
        "    if not isHeaderSkipped:\n",
        "        isHeaderSkipped = True\n",
        "        row_index += 1\n",
        "        continue\n",
        "    \n",
        "    PrintDebug(f\"row_index:{row_index}\")\n",
        "\n",
        "    column_index = 0\n",
        "    timetable_row = []\n",
        "    for cell in row.findAll('td'):\n",
        "\n",
        "        if column_index == 2:\n",
        "            continue\n",
        "\n",
        "        # timetable_row[datakey[column_index]] = cell.get_text()\n",
        "        # timetable_row[column_index] = cell.get_text()\n",
        "        timetable_row.append(cell.get_text())\n",
        "        PrintDebug(f\"column_index:{column_index}, 値:{cell.get_text()}\")\n",
        "        # if column_index == 0:\n",
        "        #     timetable_row[datakey[column_index]] = cell.get_text()\n",
        "        # elif column_index == 1:\n",
        "        #     # operations = cell.get_text().split('・')\n",
        "        #     # PrintDebug(f\"operations:{operations}\")\n",
        "        column_index += 1\n",
        "\n",
        "    timetable.append(timetable_row)\n",
        "    row_index += 1"
      ],
      "execution_count": 8,
      "outputs": []
    },
    {
      "cell_type": "code",
      "metadata": {
        "id": "VJa_2GGVCEix"
      },
      "source": [
        "#@title 取得結果を表示する\n",
        "timetable"
      ],
      "execution_count": null,
      "outputs": []
    },
    {
      "cell_type": "markdown",
      "metadata": {
        "id": "cDAL9hYI6xO4"
      },
      "source": [
        "## 手作業\n",
        "スプレッドシートに取得結果を反映する<br>\n",
        "https://docs.google.com/spreadsheets/d/1Jv5zQnojuDagAnmGIk-1X609wSaiVbuejrw6bRWGSGU/edit#gid=352018650\n",
        "\n",
        "SSSAPIを更新する<br>\n",
        "https://sssapi.app/"
      ]
    },
    {
      "cell_type": "code",
      "metadata": {
        "id": "-1aVlag_633X"
      },
      "source": [
        "#@title SSSAPIを実行する（ドクターイエロー運行予定日）\n",
        "testurl  = 'https://api.sssapi.app/XDVhDYbHLKe6nau6gYCIL'\n",
        "res = requests.get(testurl)\n",
        "print(\"＜ドクターイエロー運行予定日＞\")\n",
        "print(\"{}:{}\".format(\"StatusCode\", res.status_code))\n",
        "print(\"JsonResult\")\n",
        "res.json()"
      ],
      "execution_count": null,
      "outputs": []
    }
  ]
}