{
  "nbformat": 4,
  "nbformat_minor": 0,
  "metadata": {
    "colab": {
      "name": "DrYellow_OperationTimetableScraper.ipynb",
      "provenance": [],
      "collapsed_sections": []
    },
    "kernelspec": {
      "name": "python3",
      "display_name": "Python 3"
    },
    "language_info": {
      "name": "python"
    }
  },
  "cells": [
    {
      "cell_type": "code",
      "metadata": {
        "colab": {
          "base_uri": "https://localhost:8080/"
        },
        "id": "E7Q_bb5N6K4C",
        "outputId": "1d6d0d19-d7dd-4670-84eb-ad3390d245f7"
      },
      "source": [
        "!pip freeze | grep \"beautifulsoup\"\n",
        "!pip freeze | grep \"requests\"\n",
        "#pip install beautifulsoup\n",
        "#pip install requests"
      ],
      "execution_count": 1,
      "outputs": [
        {
          "output_type": "stream",
          "name": "stdout",
          "text": [
            "beautifulsoup4==4.6.3\n",
            "requests==2.23.0\n",
            "requests-oauthlib==1.3.0\n"
          ]
        }
      ]
    },
    {
      "cell_type": "code",
      "metadata": {
        "id": "jrEvKMFXafjo"
      },
      "source": [
        "#@title スクレイピングするURLを指定する。<br>例)https://hatsutora.com/doctor-yellow-unkou-2021-11/\n",
        "BASEURL = \"https://hatsutora.com/doctor-yellow-unkou\" #@param {type:\"string\"}\n"
      ],
      "execution_count": 2,
      "outputs": []
    },
    {
      "cell_type": "code",
      "metadata": {
        "id": "DgWboF_NIP4N"
      },
      "source": [
        "#@title DebugFlgを指定する。True/False\n",
        "DebugFlg = \"False\" #@param {type:\"string\"}"
      ],
      "execution_count": 3,
      "outputs": []
    },
    {
      "cell_type": "code",
      "metadata": {
        "id": "vAKGmF3HCk0I"
      },
      "source": [
        "#@title IsDebug デバックモードかどうか\n",
        "def IsDebug() -> bool:\n",
        "    #print(f\"DebugFlg is {DebugFlg}\")\n",
        "    return DebugFlg.lower() == \"true\""
      ],
      "execution_count": 4,
      "outputs": []
    },
    {
      "cell_type": "code",
      "metadata": {
        "id": "hrPs5JRTJsmC"
      },
      "source": [
        "#@title PrintDebug デバックモードでprintする\n",
        "def PrintDebug(output) -> None:\n",
        "    if IsDebug():\n",
        "        print(output)"
      ],
      "execution_count": 5,
      "outputs": []
    },
    {
      "cell_type": "code",
      "metadata": {
        "id": "QuJNOZhIIpH9"
      },
      "source": [
        "from datetime import datetime\n",
        "\n",
        "today = datetime.now()\n",
        "# print(today.year)\n",
        "# print(today.month)\n",
        "url = f\"{BASEURL}-{today.year}-{today.month}/\""
      ],
      "execution_count": 6,
      "outputs": []
    },
    {
      "cell_type": "code",
      "metadata": {
        "id": "R0netIoz8t7u"
      },
      "source": [
        "from bs4 import BeautifulSoup\n",
        "import requests\n",
        "\n",
        "request = requests.get(url)\n",
        "soup = BeautifulSoup(request.content, \"html.parser\")\n",
        "#<h3><span id=\"_202111\">ドクターイエロー 2021年11月の予想運行日</span></h3>の直下に運行予定日のtableがあり、最初のtableが運行予定表となる模様\n",
        "tables = soup.find_all(\"table\")\n",
        "table = tables[0]\n",
        "PrintDebug(table)\n",
        "rows = table.findAll('tr')"
      ],
      "execution_count": 7,
      "outputs": []
    },
    {
      "cell_type": "code",
      "metadata": {
        "id": "dH1rwsKlB8TD"
      },
      "source": [
        "isHeaderSkipped = False\n",
        "row_index = 0\n",
        "datakey = (\"Date\", \"Operations\")\n",
        "timetable = [datakey]\n",
        "for row in rows:\n",
        "\n",
        "    # 先頭行はヘッダー行なので読み飛ばす\n",
        "    if not isHeaderSkipped:\n",
        "        isHeaderSkipped = True\n",
        "        row_index += 1\n",
        "        continue\n",
        "    \n",
        "    PrintDebug(f\"row_index:{row_index}\")\n",
        "\n",
        "    column_index = 0\n",
        "    timetable_row = []\n",
        "    for cell in row.findAll('td'):\n",
        "\n",
        "        if column_index == 2:\n",
        "            continue\n",
        "\n",
        "        # timetable_row[datakey[column_index]] = cell.get_text()\n",
        "        # timetable_row[column_index] = cell.get_text()\n",
        "        timetable_row.append(cell.get_text())\n",
        "        PrintDebug(f\"column_index:{column_index}, 値:{cell.get_text()}\")\n",
        "        # if column_index == 0:\n",
        "        #     timetable_row[datakey[column_index]] = cell.get_text()\n",
        "        # elif column_index == 1:\n",
        "        #     # operations = cell.get_text().split('・')\n",
        "        #     # PrintDebug(f\"operations:{operations}\")\n",
        "        column_index += 1\n",
        "\n",
        "    timetable.append(timetable_row)\n",
        "    row_index += 1"
      ],
      "execution_count": 8,
      "outputs": []
    },
    {
      "cell_type": "code",
      "metadata": {
        "colab": {
          "base_uri": "https://localhost:8080/"
        },
        "id": "VJa_2GGVCEix",
        "outputId": "044619fb-d224-4611-a657-d2272132dcd1"
      },
      "source": [
        "#@title 取得結果を表示する\n",
        "timetable"
      ],
      "execution_count": 9,
      "outputs": [
        {
          "output_type": "execute_result",
          "data": {
            "text/plain": [
              "[('Date', 'Operations'),\n",
              " ['11月5日 (金)', 'のぞみ・下り (東京駅 → 博多駅)'],\n",
              " ['11月6日 (土)', 'のぞみ・上り (博多駅 → 東京駅)'],\n",
              " ['11月16日 (火)', 'のぞみ・下り (東京駅 → 博多駅)'],\n",
              " ['11月17日 (水)', 'のぞみ・上り (博多駅 → 東京駅)'],\n",
              " ['11月20日 (土)', '【試運転】のぞみダイヤ・下り (東京駅 → 博多駅)'],\n",
              " ['11月22日 (月)', '【試運転】のぞみダイヤ・上り (博多駅 → 東京駅)'],\n",
              " ['11月26日 (金)', 'のぞみ・下り (東京駅 → 博多駅)'],\n",
              " ['11月27日 (土)', 'のぞみ・上り (博多駅 → 東京駅)'],\n",
              " ['11月27日 (土)', '【回送】のぞみダイヤ・下り (東京駅 → 博多駅)'],\n",
              " ['11月30日 (火)', '【回送】のぞみダイヤ・上り (博多駅 → 東京駅)']]"
            ]
          },
          "metadata": {},
          "execution_count": 9
        }
      ]
    },
    {
      "cell_type": "markdown",
      "metadata": {
        "id": "cDAL9hYI6xO4"
      },
      "source": [
        "\n"
      ]
    },
    {
      "cell_type": "code",
      "metadata": {
        "colab": {
          "base_uri": "https://localhost:8080/"
        },
        "id": "-1aVlag_633X",
        "outputId": "8870942c-2830-43aa-866a-e3471eb85304"
      },
      "source": [
        "#@title SSSAPIを実行する（ドクターイエロー運行予定日）\n",
        "testurl  = 'https://api.sssapi.app/XDVhDYbHLKe6nau6gYCIL'\n",
        "res = requests.get(testurl)\n",
        "print(\"＜ドクターイエロー運行予定日＞\")\n",
        "print(\"{}:{}\".format(\"StatusCode\", res.status_code))\n",
        "print(\"JsonResult\")\n",
        "res.json()"
      ],
      "execution_count": 10,
      "outputs": [
        {
          "output_type": "stream",
          "name": "stdout",
          "text": [
            "＜ドクターイエロー運行予定日＞\n",
            "StatusCode:200\n",
            "JsonResult\n"
          ]
        },
        {
          "output_type": "execute_result",
          "data": {
            "text/plain": [
              "[{'Date': '2021/09/01',\n",
              "  'Destination': '下り',\n",
              "  'Hit': '〇',\n",
              "  'Remarks': '回送',\n",
              "  'Train': 'のぞみ'},\n",
              " {'Date': '2021/09/04',\n",
              "  'Destination': '上り',\n",
              "  'Hit': '〇',\n",
              "  'Remarks': '回送',\n",
              "  'Train': 'のぞみ'},\n",
              " {'Date': '2021/09/05',\n",
              "  'Destination': '下り',\n",
              "  'Hit': '〇',\n",
              "  'Remarks': None,\n",
              "  'Train': 'こだま'},\n",
              " {'Date': '2021/09/06',\n",
              "  'Destination': '上り',\n",
              "  'Hit': '〇',\n",
              "  'Remarks': None,\n",
              "  'Train': 'こだま'},\n",
              " {'Date': '2021/09/08',\n",
              "  'Destination': '下り',\n",
              "  'Hit': '〇',\n",
              "  'Remarks': None,\n",
              "  'Train': 'のぞみ'},\n",
              " {'Date': '2021/09/09',\n",
              "  'Destination': '上り',\n",
              "  'Hit': '〇',\n",
              "  'Remarks': None,\n",
              "  'Train': 'のぞみ'},\n",
              " {'Date': '2021/09/17',\n",
              "  'Destination': '下り',\n",
              "  'Hit': '〇',\n",
              "  'Remarks': None,\n",
              "  'Train': 'のぞみ'},\n",
              " {'Date': '2021/09/18',\n",
              "  'Destination': '上り',\n",
              "  'Hit': '〇',\n",
              "  'Remarks': None,\n",
              "  'Train': 'のぞみ'},\n",
              " {'Date': '2021/09/21',\n",
              "  'Destination': '下り',\n",
              "  'Hit': '〇',\n",
              "  'Remarks': '試運転',\n",
              "  'Train': 'のぞみ'},\n",
              " {'Date': '2021/09/22',\n",
              "  'Destination': '上り',\n",
              "  'Hit': '〇',\n",
              "  'Remarks': '試運転',\n",
              "  'Train': 'のぞみ'},\n",
              " {'Date': '2021/09/27',\n",
              "  'Destination': '下り',\n",
              "  'Hit': '〇',\n",
              "  'Remarks': None,\n",
              "  'Train': 'のぞみ'},\n",
              " {'Date': '2021/09/28',\n",
              "  'Destination': '上り',\n",
              "  'Hit': '〇',\n",
              "  'Remarks': None,\n",
              "  'Train': 'のぞみ'},\n",
              " {'Date': '2021/10/01',\n",
              "  'Destination': '下り',\n",
              "  'Hit': '〇',\n",
              "  'Remarks': None,\n",
              "  'Train': 'こだま'},\n",
              " {'Date': '2021/10/02',\n",
              "  'Destination': '下り',\n",
              "  'Hit': '〇',\n",
              "  'Remarks': None,\n",
              "  'Train': 'こだま'},\n",
              " {'Date': '2021/10/06',\n",
              "  'Destination': '下り',\n",
              "  'Hit': '〇',\n",
              "  'Remarks': None,\n",
              "  'Train': 'のぞみ'},\n",
              " {'Date': '2021/10/07',\n",
              "  'Destination': '上り',\n",
              "  'Hit': '〇',\n",
              "  'Remarks': None,\n",
              "  'Train': 'のぞみ'},\n",
              " {'Date': '2021/10/15',\n",
              "  'Destination': '下り',\n",
              "  'Hit': '〇',\n",
              "  'Remarks': None,\n",
              "  'Train': 'のぞみ'},\n",
              " {'Date': '2021/10/16',\n",
              "  'Destination': '上り',\n",
              "  'Hit': '〇',\n",
              "  'Remarks': None,\n",
              "  'Train': 'のぞみ'},\n",
              " {'Date': '2021/10/26',\n",
              "  'Destination': '下り',\n",
              "  'Hit': '〇',\n",
              "  'Remarks': None,\n",
              "  'Train': 'のぞみ'},\n",
              " {'Date': '2021/10/27',\n",
              "  'Destination': '上り',\n",
              "  'Hit': '〇',\n",
              "  'Remarks': None,\n",
              "  'Train': 'のぞみ'},\n",
              " {'Date': '2021/11/05',\n",
              "  'Destination': '下り',\n",
              "  'Hit': None,\n",
              "  'Remarks': None,\n",
              "  'Train': 'のぞみ'},\n",
              " {'Date': '2021/11/06',\n",
              "  'Destination': '上り',\n",
              "  'Hit': None,\n",
              "  'Remarks': None,\n",
              "  'Train': 'のぞみ'},\n",
              " {'Date': '2021/11/16',\n",
              "  'Destination': '下り',\n",
              "  'Hit': None,\n",
              "  'Remarks': None,\n",
              "  'Train': 'のぞみ'},\n",
              " {'Date': '2021/11/17',\n",
              "  'Destination': '上り',\n",
              "  'Hit': None,\n",
              "  'Remarks': None,\n",
              "  'Train': 'のぞみ'},\n",
              " {'Date': '2021/11/20',\n",
              "  'Destination': '下り',\n",
              "  'Hit': None,\n",
              "  'Remarks': '試運転',\n",
              "  'Train': 'のぞみ'},\n",
              " {'Date': '2021/11/22',\n",
              "  'Destination': '上り',\n",
              "  'Hit': None,\n",
              "  'Remarks': '試運転',\n",
              "  'Train': 'のぞみ'},\n",
              " {'Date': '2021/11/26',\n",
              "  'Destination': '下り',\n",
              "  'Hit': None,\n",
              "  'Remarks': None,\n",
              "  'Train': 'のぞみ'},\n",
              " {'Date': '2021/11/27',\n",
              "  'Destination': '上り',\n",
              "  'Hit': None,\n",
              "  'Remarks': None,\n",
              "  'Train': 'のぞみ'},\n",
              " {'Date': '2021/11/27',\n",
              "  'Destination': '下り',\n",
              "  'Hit': None,\n",
              "  'Remarks': '回送',\n",
              "  'Train': 'のぞみ'},\n",
              " {'Date': '2021/11/30',\n",
              "  'Destination': '上り',\n",
              "  'Hit': None,\n",
              "  'Remarks': '回送',\n",
              "  'Train': 'のぞみ'}]"
            ]
          },
          "metadata": {},
          "execution_count": 10
        }
      ]
    }
  ]
}