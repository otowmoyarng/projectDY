{
  "nbformat": 4,
  "nbformat_minor": 0,
  "metadata": {
    "colab": {
      "name": "DrYellow_OperationTimetableScraper.ipynb",
      "provenance": [],
      "collapsed_sections": []
    },
    "kernelspec": {
      "name": "python3",
      "display_name": "Python 3"
    },
    "language_info": {
      "name": "python"
    }
  },
  "cells": [
    {
      "cell_type": "code",
      "metadata": {
        "colab": {
          "base_uri": "https://localhost:8080/"
        },
        "id": "E7Q_bb5N6K4C",
        "outputId": "c6e42049-9737-4e8f-e632-d1ae50369319"
      },
      "source": [
        "!pip freeze | grep \"beautifulsoup\"\n",
        "!pip freeze | grep \"requests\"\n",
        "#pip install beautifulsoup\n",
        "#pip install requests"
      ],
      "execution_count": 5,
      "outputs": [
        {
          "output_type": "stream",
          "name": "stdout",
          "text": [
            "beautifulsoup4==4.6.3\n",
            "requests==2.23.0\n",
            "requests-oauthlib==1.3.0\n"
          ]
        }
      ]
    },
    {
      "cell_type": "code",
      "metadata": {
        "id": "jrEvKMFXafjo"
      },
      "source": [
        "#@title スクレイピングするURLを指定する。<br>例)https://hatsutora.com/doctor-yellow-unkou-2021-11/\n",
        "BASEURL = \"https://hatsutora.com/doctor-yellow-unkou\" #@param {type:\"string\"}\n"
      ],
      "execution_count": 44,
      "outputs": []
    },
    {
      "cell_type": "code",
      "metadata": {
        "id": "DgWboF_NIP4N"
      },
      "source": [
        "#@title DebugFlgを指定する。True/False\n",
        "DebugFlg = \"False\" #@param {type:\"string\"}"
      ],
      "execution_count": 59,
      "outputs": []
    },
    {
      "cell_type": "code",
      "metadata": {
        "id": "vAKGmF3HCk0I"
      },
      "source": [
        "#@title IsDebug デバックモードかどうか\n",
        "def IsDebug() -> bool:\n",
        "    #print(f\"DebugFlg is {DebugFlg}\")\n",
        "    return DebugFlg.lower() == \"true\""
      ],
      "execution_count": 48,
      "outputs": []
    },
    {
      "cell_type": "code",
      "metadata": {
        "id": "hrPs5JRTJsmC"
      },
      "source": [
        "#@title PrintDebug デバックモードでprintする\n",
        "def PrintDebug(output) -> None:\n",
        "    if IsDebug():\n",
        "        print(output)"
      ],
      "execution_count": 51,
      "outputs": []
    },
    {
      "cell_type": "code",
      "metadata": {
        "id": "QuJNOZhIIpH9"
      },
      "source": [
        "from datetime import datetime\n",
        "\n",
        "today = datetime.now()\n",
        "# print(today.year)\n",
        "# print(today.month)\n",
        "url = f\"{BASEURL}-{today.year}-{today.month}/\""
      ],
      "execution_count": 49,
      "outputs": []
    },
    {
      "cell_type": "code",
      "metadata": {
        "id": "R0netIoz8t7u"
      },
      "source": [
        "from bs4 import BeautifulSoup\n",
        "import requests\n",
        "\n",
        "request = requests.get(url)\n",
        "soup = BeautifulSoup(request.content, \"html.parser\")\n",
        "#<h3><span id=\"_202111\">ドクターイエロー 2021年11月の予想運行日</span></h3>の直下に運行予定日のtableがあり、最初のtableが運行予定表となる模様\n",
        "tables = soup.find_all(\"table\")\n",
        "table = tables[0]\n",
        "PrintDebug(table)\n",
        "rows = table.findAll('tr')"
      ],
      "execution_count": null,
      "outputs": []
    },
    {
      "cell_type": "code",
      "metadata": {
        "id": "dH1rwsKlB8TD"
      },
      "source": [
        "isHeaderSkipped = False\n",
        "row_index = 0\n",
        "datakey = (\"Date\", \"Operations\")\n",
        "timetable = [datakey]\n",
        "for row in rows:\n",
        "\n",
        "    # 先頭行はヘッダー行なので読み飛ばす\n",
        "    if not isHeaderSkipped:\n",
        "        isHeaderSkipped = True\n",
        "        row_index += 1\n",
        "        continue\n",
        "    \n",
        "    PrintDebug(f\"row_index:{row_index}\")\n",
        "\n",
        "    column_index = 0\n",
        "    timetable_row = []\n",
        "    for cell in row.findAll('td'):\n",
        "\n",
        "        if column_index == 2:\n",
        "            continue\n",
        "\n",
        "        # timetable_row[datakey[column_index]] = cell.get_text()\n",
        "        # timetable_row[column_index] = cell.get_text()\n",
        "        timetable_row.append(cell.get_text())\n",
        "        PrintDebug(f\"column_index:{column_index}, 値:{cell.get_text()}\")\n",
        "        # if column_index == 0:\n",
        "        #     timetable_row[datakey[column_index]] = cell.get_text()\n",
        "        # elif column_index == 1:\n",
        "        #     # operations = cell.get_text().split('・')\n",
        "        #     # PrintDebug(f\"operations:{operations}\")\n",
        "        column_index += 1\n",
        "\n",
        "    timetable.append(timetable_row)\n",
        "    row_index += 1"
      ],
      "execution_count": 64,
      "outputs": []
    },
    {
      "cell_type": "code",
      "metadata": {
        "colab": {
          "base_uri": "https://localhost:8080/"
        },
        "id": "VJa_2GGVCEix",
        "outputId": "7a4ecb00-825b-4b34-aecb-00d30a0f20d9"
      },
      "source": [
        "timetable"
      ],
      "execution_count": 65,
      "outputs": [
        {
          "output_type": "execute_result",
          "data": {
            "text/plain": [
              "[('Date', 'Operations'),\n",
              " ['11月5日 (金)', 'のぞみ・下り (東京駅 → 博多駅)'],\n",
              " ['11月6日 (土)', 'のぞみ・上り (博多駅 → 東京駅)'],\n",
              " ['11月16日 (火)', 'のぞみ・下り (東京駅 → 博多駅)'],\n",
              " ['11月17日 (水)', 'のぞみ・上り (博多駅 → 東京駅)'],\n",
              " ['11月20日 (土)', '【試運転】のぞみダイヤ・下り (東京駅 → 博多駅)'],\n",
              " ['11月22日 (月)', '【試運転】のぞみダイヤ・上り (博多駅 → 東京駅)'],\n",
              " ['11月26日 (金)', 'のぞみ・下り (東京駅 → 博多駅)'],\n",
              " ['11月27日 (土)', 'のぞみ・上り (博多駅 → 東京駅)'],\n",
              " ['11月27日 (土)', '【回送】のぞみダイヤ・下り (東京駅 → 博多駅)'],\n",
              " ['11月30日 (火)', '【回送】のぞみダイヤ・上り (博多駅 → 東京駅)']]"
            ]
          },
          "metadata": {},
          "execution_count": 65
        }
      ]
    }
  ]
}